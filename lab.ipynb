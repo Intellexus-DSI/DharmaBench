{
 "cells": [
  {
   "cell_type": "markdown",
   "metadata": {},
   "source": [
    "# Run Experiments"
   ]
  },
  {
   "cell_type": "code",
   "execution_count": 1,
   "metadata": {},
   "outputs": [],
   "source": [
    "\"\"\"\n",
    "Schemas for structured output.\n",
    "\"\"\"\n",
    "\n",
    "###############################################################################\n",
    "# Imports\n",
    "from pydantic import BaseModel, Field\n",
    "from typing import Optional, List\n",
    "\n",
    "\n",
    "\n",
    "\n",
    "\n",
    "###############################################################################\n",
    "# Pydantic Schemas\n",
    "class TagTextPair(BaseModel):\n",
    "    LABEL: str = Field(..., description=\"The predicted label for the text span\")\n",
    "    SPAN: str = Field(..., description=\"The corresponding text span\")\n",
    "\n",
    "class Prediction(BaseModel):\n",
    "    \"\"\"Prediction schema\"\"\"\n",
    "    prediction: List[TagTextPair] = Field(\n",
    "        ..., description=\"Nested list of predicted dictionaries with LABEL and SPAN\"\n",
    "    )\n",
    "\n",
    "class Label(BaseModel):\n",
    "    \"\"\"Label\"\"\"\n",
    "    label: str = Field(\n",
    "        description=\"The predicted label for the classification task\"\n",
    "    )\n",
    "\n",
    "\n",
    "###############################################################################\n",
    "\n",
    "\n",
    "PYDANTIC_SCHEMAS = {\n",
    "    \"detection\": Prediction,\n",
    "    \"classification\": Label,\n",
    "}\n"
   ]
  },
  {
   "cell_type": "code",
   "execution_count": 2,
   "metadata": {},
   "outputs": [
    {
     "data": {
      "text/plain": [
       "Prediction(prediction=[TagTextPair(LABEL='LABEL1', SPAN='This is a text span for LABEL1'), TagTextPair(LABEL='LABEL2', SPAN='This is a text span for LABEL2')])"
      ]
     },
     "execution_count": 2,
     "metadata": {},
     "output_type": "execute_result"
    }
   ],
   "source": [
    "# Create a preddiction object for testing\n",
    "def create_prediction_example() -> Prediction:\n",
    "    \"\"\"Create an example prediction object\"\"\"\n",
    "    return Prediction(\n",
    "        prediction=[\n",
    "            TagTextPair(LABEL=\"LABEL1\", SPAN=\"This is a text span for LABEL1\"),\n",
    "            TagTextPair(LABEL=\"LABEL2\", SPAN=\"This is a text span for LABEL2\")\n",
    "        ]\n",
    "    )\n",
    "\n",
    "pred = create_prediction_example()\n",
    "pred"
   ]
  },
  {
   "cell_type": "code",
   "execution_count": 6,
   "metadata": {},
   "outputs": [
    {
     "data": {
      "text/plain": [
       "{'LABEL': 'LABEL1', 'SPAN': 'This is a text span for LABEL1'}"
      ]
     },
     "execution_count": 6,
     "metadata": {},
     "output_type": "execute_result"
    }
   ],
   "source": [
    "dict(dict(pred)[\"prediction\"][0])"
   ]
  },
  {
   "cell_type": "code",
   "execution_count": null,
   "metadata": {},
   "outputs": [],
   "source": []
  }
 ],
 "metadata": {
  "kernelspec": {
   "display_name": "mwe",
   "language": "python",
   "name": "python3"
  },
  "language_info": {
   "codemirror_mode": {
    "name": "ipython",
    "version": 3
   },
   "file_extension": ".py",
   "mimetype": "text/x-python",
   "name": "python",
   "nbconvert_exporter": "python",
   "pygments_lexer": "ipython3",
   "version": "3.12.8"
  }
 },
 "nbformat": 4,
 "nbformat_minor": 2
}
